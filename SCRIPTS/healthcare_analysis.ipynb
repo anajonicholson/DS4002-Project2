{
  "nbformat": 4,
  "nbformat_minor": 0,
  "metadata": {
    "colab": {
      "provenance": [],
      "authorship_tag": "ABX9TyMnpQ04OgKdYNWUYoWhIf4c",
      "include_colab_link": true
    },
    "kernelspec": {
      "name": "python3",
      "display_name": "Python 3"
    },
    "language_info": {
      "name": "python"
    }
  },
  "cells": [
    {
      "cell_type": "markdown",
      "metadata": {
        "id": "view-in-github",
        "colab_type": "text"
      },
      "source": [
        "<a href=\"https://colab.research.google.com/github/anajonicholson/DS4002-Project2/blob/main/healthcare_analysis.ipynb\" target=\"_parent\"><img src=\"https://colab.research.google.com/assets/colab-badge.svg\" alt=\"Open In Colab\"/></a>"
      ]
    },
    {
      "cell_type": "code",
      "execution_count": 3,
      "metadata": {
        "id": "oe2Np5k4uygH"
      },
      "outputs": [],
      "source": [
        "import pandas as pd\n",
        "import numpy as np\n",
        "import matplotlib.pyplot as plt\n",
        "import seaborn as sns\n",
        "\n",
        "personal_healthcare = pd.read_csv(\"https://raw.githubusercontent.com/anajonicholson/DS4002-Project2/refs/heads/main/DATA/personal_healthcare_expenses_cleaned.csv\")\n",
        "annual_salary = pd.read_csv(\"https://raw.githubusercontent.com/anajonicholson/DS4002-Project2/refs/heads/main/DATA/average_salary_state.csv\")\n",
        "medicaid_enrollment = pd.read_csv(\"https://raw.githubusercontent.com/anajonicholson/DS4002-Project2/refs/heads/main/DATA/medicaid_enrollment_cleaned.csv\")"
      ]
    }
  ]
}